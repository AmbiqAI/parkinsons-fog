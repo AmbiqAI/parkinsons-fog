{
 "cells": [
  {
   "cell_type": "code",
   "execution_count": null,
   "metadata": {},
   "outputs": [],
   "source": [
    "import os\n",
    "import tensorflow as tf\n",
    "import numpy as np\n",
    "import plotly.graph_objects as go\n",
    "import plotly.express as px\n",
    "import scipy.signal as sps\n",
    "from fog import FogDataset\n",
    "from fog.preprocess import filter_signal"
   ]
  },
  {
   "cell_type": "code",
   "execution_count": null,
   "metadata": {},
   "outputs": [],
   "source": [
    "ds = FogDataset(\n",
    "    ds_path=\"../datasets\",\n",
    "    block_size=10000,\n",
    "    patch_size=1,\n",
    ")"
   ]
  },
  {
   "cell_type": "code",
   "execution_count": null,
   "metadata": {},
   "outputs": [],
   "source": [
    "sub_gen = ds.uniform_subject_generator(\n",
    "    subject_ids=None,\n",
    "    repeat=True, \n",
    "    shuffle=True\n",
    ")\n",
    "ds_gen = ds.data_generator(subject_generator=sub_gen, samples_per_subject=10)"
   ]
  },
  {
   "cell_type": "code",
   "execution_count": null,
   "metadata": {},
   "outputs": [],
   "source": [
    "x, y = next(ds_gen)\n",
    "ts = np.arange(y.shape[0])\n",
    "xx = filter_signal(x[:,0], lowcut=0.5, highcut=20, sample_rate=ds.sampling_rate)\n",
    "label = tf.pad(y, [[0, 0], [1, 0]])\n",
    "label = np.where((label[:, 4] == 1) & (label[:, 5] == 1), np.argmax(label[:, :4], axis=1), np.nan)\n",
    "fig = go.Figure()\n",
    "fig.add_trace(go.Scatter(x=ts, y=x[:, 0], name=\"AccV\"))\n",
    "fig.add_trace(go.Scatter(x=ts, y=x[:, 1], name=\"AccML\"))\n",
    "fig.add_trace(go.Scatter(x=ts, y=x[:, 2], name=\"AccAP\"))\n",
    "fig.add_trace(go.Scatter(x=ts, y=label, name=\"LABEL\"))\n",
    "fig.show()"
   ]
  },
  {
   "cell_type": "code",
   "execution_count": null,
   "metadata": {},
   "outputs": [],
   "source": []
  }
 ],
 "metadata": {
  "kernelspec": {
   "display_name": ".venv",
   "language": "python",
   "name": "python3"
  },
  "language_info": {
   "codemirror_mode": {
    "name": "ipython",
    "version": 3
   },
   "file_extension": ".py",
   "mimetype": "text/x-python",
   "name": "python",
   "nbconvert_exporter": "python",
   "pygments_lexer": "ipython3",
   "version": "3.11.4"
  },
  "orig_nbformat": 4
 },
 "nbformat": 4,
 "nbformat_minor": 2
}
